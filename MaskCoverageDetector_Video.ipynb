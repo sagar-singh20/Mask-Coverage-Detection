{
 "cells": [
  {
   "cell_type": "code",
   "execution_count": 1,
   "metadata": {},
   "outputs": [],
   "source": [
    "import numpy as np\n",
    "import cv2\n",
    "import matplotlib.pyplot as plt\n",
    "\n",
    "from tensorflow.keras.models import load_model\n",
    "from tensorflow.keras.applications.mobilenet_v2 import preprocess_input\n",
    "\n",
    "import imutils\n",
    "from imutils.video import VideoStream\n"
   ]
  },
  {
   "cell_type": "markdown",
   "metadata": {},
   "source": [
    "# Begin  Detection\n",
    "\n",
    "* Load a pre-trained face detection model to extract faces from images.\n",
    "* Run our mask detector to detect masks for each of the faces\n",
    "\n",
    "Here, we will be trying 2 different pre-trained face detector\n"
   ]
  },
  {
   "cell_type": "code",
   "execution_count": 2,
   "metadata": {},
   "outputs": [],
   "source": [
    "imgSize = 224"
   ]
  },
  {
   "cell_type": "code",
   "execution_count": 3,
   "metadata": {},
   "outputs": [],
   "source": [
    "#Face Detector Type 3\n",
    "\"\"\"\n",
    "OpenCV’s deep neural network module with Caffe models, is based on the Single Shot Detector (SSD) framework \n",
    "with a ResNet base network\n",
    "\n",
    "It requires two sets of files:\n",
    "\n",
    "The .prototxt file(s) which define the model architecture (i.e., the layers themselves)\n",
    "The .caffemodel file which contains the weights for the actual layers\n",
    "\"\"\"\n",
    "\n",
    "\n",
    "# For videos, this model is much faster at detecting faces, when compared to Cascade Classifiers\n",
    "prototxtPath = \"face_detector/deploy.prototxt\"\n",
    "weightsPath = \"face_detector/res10_300x300_ssd_iter_140000.caffemodel\"\n",
    "faceDetector_type3 = cv2.dnn.readNet(prototxtPath, weightsPath)\n",
    "\n"
   ]
  },
  {
   "cell_type": "code",
   "execution_count": 4,
   "metadata": {},
   "outputs": [],
   "source": [
    "#Load Mask Coverage Model\n",
    "maskDetector = load_model('modelAttributes/maskCoverageModel_v2.h5')\n",
    "maskDetector.load_weights(\"modelAttributes/weights_maskcoverage_v2.best.hdf5\")\n",
    "\n",
    "mask_label = {0:'covered',1:'uncovered'}\n",
    "color_label = {0:(0,255,0),1:(255,0,0)}"
   ]
  },
  {
   "cell_type": "code",
   "execution_count": 5,
   "metadata": {},
   "outputs": [],
   "source": [
    "# For plotting Bounding Box and Labels\n",
    "\n",
    "def plotBox(frame,locs,preds):\n",
    "    for (box, pred) in zip(locs, preds):\n",
    "        # unpack the bounding box and predictions\n",
    "        (startX, startY, endX, endY) = box\n",
    "        (mask, withoutMask) = pred\n",
    "\n",
    "        # determine the class label and color we'll use to draw\n",
    "        # the bounding box and text\n",
    "        index = pred.argmax()\n",
    "        label = \"{}: {:.2f}%\".format(mask_label[index], max(mask, withoutMask) * 100)\n",
    "        color = color_label[index]\n",
    "\n",
    "\n",
    "        # display the label and bounding box rectangle on the output\n",
    "        # frame\n",
    "        cv2.putText(frame, label, (startX, startY - 10),\n",
    "            cv2.FONT_HERSHEY_SIMPLEX, 0.45, color, 2)\n",
    "        cv2.rectangle(frame, (startX, startY), (endX, endY), color, 2)\n",
    "\n",
    "    # show the output frame\n",
    "    return frame"
   ]
  },
  {
   "cell_type": "code",
   "execution_count": 6,
   "metadata": {},
   "outputs": [],
   "source": [
    "#For Bounding box extraction and mask detection prediction\n",
    "\n",
    "def detectMask(frame, faceNet, maskNet,conf=0.5):\n",
    "    # grab the dimensions of the frame and then construct a blob\n",
    "    # from it\n",
    "    (h, w) = frame.shape[:2]\n",
    "    blob = cv2.dnn.blobFromImage(frame, 1.0, (400, 400),\n",
    "        (104.0, 177.0, 123.0))\n",
    "\n",
    "    # pass the blob through the network and obtain the face detections\n",
    "    faceNet.setInput(blob)\n",
    "    detections = faceNet.forward()\n",
    "    print(detections.shape)\n",
    "\n",
    "    # initialize our list of faces, their corresponding locations,\n",
    "    # and the list of predictions from our face mask network\n",
    "    faces = []\n",
    "    locs = []\n",
    "    preds = []\n",
    "\n",
    "    # loop over the detections\n",
    "    for i in range(0, detections.shape[2]):\n",
    "        # extract the confidence (i.e., probability) associated with\n",
    "        # the detection\n",
    "        confidence = detections[0, 0, i, 2]\n",
    "\n",
    "        # filter out weak detections by ensuring the confidence is\n",
    "        # greater than the minimum confidence\n",
    "        if confidence > conf:\n",
    "            # compute the (x, y)-coordinates of the bounding box for\n",
    "            # the object\n",
    "            box = detections[0, 0, i, 3:7] * np.array([w, h, w, h])\n",
    "            (startX, startY, endX, endY) = box.astype(\"int\")\n",
    "\n",
    "            # ensure the bounding boxes fall within the dimensions of\n",
    "            # the frame\n",
    "            (startX, startY) = (max(0, startX), max(0, startY))\n",
    "            (endX, endY) = (min(w - 1, endX), min(h - 1, endY))\n",
    "            if(startX < endX and startY < endY):\n",
    "                # extract the face ROI, convert it from BGR to RGB channel\n",
    "                # ordering, resize it to 224x224, and preprocess it\n",
    "                face = frame[startY:endY, startX:endX]\n",
    "                face = cv2.cvtColor(face, cv2.COLOR_BGR2RGB)\n",
    "                face = cv2.resize(face, (imgSize, imgSize))\n",
    "                #face = face/255.0\n",
    "                #face = img_to_array(face)\n",
    "                face = preprocess_input(face)\n",
    "\n",
    "                # add the face and bounding boxes to their respective\n",
    "                # lists\n",
    "                faces.append(face)\n",
    "                locs.append((startX, startY, endX, endY))\n",
    "\n",
    "    # only make a predictions if at least one face was detected\n",
    "    if len(faces) > 0:\n",
    "        # for faster inference we'll make batch predictions on *all*\n",
    "        # faces at the same time rather than one-by-one predictions\n",
    "        faces = np.array(faces, dtype=\"float32\")\n",
    "        preds = maskNet.predict(faces, batch_size=32)\n",
    "\n",
    "    # return a 2-tuple of the face locations and their corresponding\n",
    "    # locations\n",
    "    return plotBox(frame,locs,preds)"
   ]
  },
  {
   "cell_type": "code",
   "execution_count": 7,
   "metadata": {},
   "outputs": [
    {
     "name": "stdout",
     "output_type": "stream",
     "text": [
      "Stream stopped\n"
     ]
    }
   ],
   "source": [
    "#Video Stream\n",
    "\n",
    "import IPython\n",
    "import time\n",
    "import io\n",
    "from PIL import Image  #Requires pillow\n",
    "\n",
    "d = IPython.display.display(\"\", display_id=1)\n",
    "\n",
    "#Use 'jpeg' instead of 'png' (~5 times faster)\n",
    "def array_to_image(a, fmt='jpeg'):\n",
    "    #Create binary stream object\n",
    "    f = io.BytesIO()\n",
    "    #Convert array to binary stream object\n",
    "    Image.fromarray(a).save(f, fmt)\n",
    "    return IPython.display.Image(data=f.getvalue())\n",
    "\n",
    "#Start Camera\n",
    "cam = cv2.VideoCapture(0)\n",
    "\n",
    "while True:\n",
    "    try:\n",
    "        ret, frame = cam.read()\n",
    "        frame = cv2.flip(frame, 1)\n",
    "        frame = imutils.resize(frame, width=400)\n",
    "        new_frame = detectMask(frame, faceDetector_type3, maskDetector,0.6)\n",
    "        new_frame = cv2.cvtColor(new_frame, cv2.COLOR_BGR2RGB)\n",
    "        im = array_to_image(new_frame)\n",
    "        d.update(im)\n",
    "    except KeyboardInterrupt:\n",
    "        print()\n",
    "        cam.release()\n",
    "        IPython.display.clear_output()\n",
    "        print (\"Stream stopped\")\n",
    "        break"
   ]
  }
 ],
 "metadata": {
  "kernelspec": {
   "display_name": "Python 3",
   "language": "python",
   "name": "python3"
  },
  "language_info": {
   "codemirror_mode": {
    "name": "ipython",
    "version": 3
   },
   "file_extension": ".py",
   "mimetype": "text/x-python",
   "name": "python",
   "nbconvert_exporter": "python",
   "pygments_lexer": "ipython3",
   "version": "3.7.6"
  }
 },
 "nbformat": 4,
 "nbformat_minor": 4
}
